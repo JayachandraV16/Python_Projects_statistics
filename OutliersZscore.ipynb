{
 "cells": [
  {
   "cell_type": "markdown",
   "id": "deebda29-3796-4339-a6c0-a9f36aa97d94",
   "metadata": {},
   "source": [
    "## Removal Of Outliers using Z score \n"
   ]
  },
  {
   "cell_type": "code",
   "execution_count": 1,
   "id": "03e2dd37-39e9-47a6-9778-76b7c92791ee",
   "metadata": {},
   "outputs": [],
   "source": [
    "import numpy as np\n",
    "import matplotlib as plt\n",
    "%matplotlib inline"
   ]
  },
  {
   "cell_type": "code",
   "execution_count": 10,
   "id": "4c731646-1113-441b-bdd0-75d58a021cc5",
   "metadata": {},
   "outputs": [],
   "source": [
    "dataset = [11,10,12,14,12,15,14,13,15,12,14,17,19,107,13,12,14,12,12,11,14,13,15,10,15,12,10,120]"
   ]
  },
  {
   "cell_type": "markdown",
   "id": "912db841-f11a-4f14-b43f-b1b7453596dc",
   "metadata": {},
   "source": [
    "Z score \n",
    "z = (X -µ)/σ  "
   ]
  },
  {
   "cell_type": "code",
   "execution_count": 11,
   "id": "adfd73cf-b00f-4585-b14c-157d55c0414f",
   "metadata": {},
   "outputs": [],
   "source": [
    "outliers = []\n",
    "def detect_outliers(data):\n",
    "    threshold = 3\n",
    "    mean = np.mean(data) # calculates mean\n",
    "    std = np.std(data)   #calculates std deviation\n",
    "\n",
    "    for i in data:\n",
    "        z_score = (i-mean)/std\n",
    "        if np.abs(z_score)>threshold:\n",
    "            outliers.append(i)\n",
    "    return outliers"
   ]
  },
  {
   "cell_type": "code",
   "execution_count": 12,
   "id": "8b0eebbc-f5a8-403f-b696-b4cea8af5d82",
   "metadata": {},
   "outputs": [],
   "source": [
    "outlier_pt = detect_outliers(dataset)"
   ]
  },
  {
   "cell_type": "code",
   "execution_count": 13,
   "id": "15416481-247d-418c-bfdb-a152d1f5ddd1",
   "metadata": {},
   "outputs": [
    {
     "name": "stdout",
     "output_type": "stream",
     "text": [
      "[107, 120]\n"
     ]
    }
   ],
   "source": [
    "print(outlier_pt)"
   ]
  },
  {
   "cell_type": "code",
   "execution_count": null,
   "id": "315dc195-70d6-4f0e-b6d9-59c52d861e1f",
   "metadata": {},
   "outputs": [],
   "source": []
  }
 ],
 "metadata": {
  "kernelspec": {
   "display_name": "Python 3 (ipykernel)",
   "language": "python",
   "name": "python3"
  },
  "language_info": {
   "codemirror_mode": {
    "name": "ipython",
    "version": 3
   },
   "file_extension": ".py",
   "mimetype": "text/x-python",
   "name": "python",
   "nbconvert_exporter": "python",
   "pygments_lexer": "ipython3",
   "version": "3.13.2"
  }
 },
 "nbformat": 4,
 "nbformat_minor": 5
}
