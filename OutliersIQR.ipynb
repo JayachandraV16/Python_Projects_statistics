{
 "cells": [
  {
   "cell_type": "markdown",
   "id": "a020c679-e24d-4877-8e6b-4da012f3b2f3",
   "metadata": {},
   "source": [
    "## REMOVAL OF OUTLIERS USING IQR"
   ]
  },
  {
   "cell_type": "markdown",
   "id": "d75a9f1a-0cec-4c3e-bee3-0f50b28d923d",
   "metadata": {},
   "source": [
    "#### Inter Quantile Range (25-75% Values of a DataSet)\n",
    "Steps :\n",
    "1. Arrange The Data in Increasing Order\n",
    "2. Calculate the First Quartile(Q1) and the Third Quartile(Q3)\n",
    "3. Find Inter Quartile Range = Q3-Q1\n",
    "4. Find Lower Bound l = Q1 - 1.5*IQR\n",
    "5. Find Lower Bound l = Q3  + 1.5*IQR\n",
    "\n",
    "Anything that lies outside the bounds is an outlier"
   ]
  },
  {
   "cell_type": "code",
   "execution_count": 1,
   "id": "f88d3df1-5b61-4004-97cc-392e332d686c",
   "metadata": {},
   "outputs": [],
   "source": [
    "import numpy as np"
   ]
  },
  {
   "cell_type": "code",
   "execution_count": 2,
   "id": "b97427a3-c720-401a-b14f-849cb44edb97",
   "metadata": {},
   "outputs": [],
   "source": [
    "dataset = [22,25,27,24,30,28,29,50,26,24,23,500]"
   ]
  },
  {
   "cell_type": "code",
   "execution_count": 3,
   "id": "a8b712fa-a79b-4ebf-bd8d-14c95512a69b",
   "metadata": {},
   "outputs": [],
   "source": [
    "sorted_data =sorted(dataset)"
   ]
  },
  {
   "cell_type": "code",
   "execution_count": 4,
   "id": "87046b1f-8445-4133-b3d5-cb88f350185e",
   "metadata": {},
   "outputs": [
    {
     "name": "stdout",
     "output_type": "stream",
     "text": [
      "[22, 23, 24, 24, 25, 26, 27, 28, 29, 30, 50, 500]\n"
     ]
    }
   ],
   "source": [
    "print(sorted_data)"
   ]
  },
  {
   "cell_type": "code",
   "execution_count": 5,
   "id": "db5ff81f-740a-4573-9b09-3b7d2337eb90",
   "metadata": {},
   "outputs": [],
   "source": [
    "# Finding Quantile 1 and Quantile 3 \n",
    "quantile1, quantile3 = np.percentile(dataset,[25,75])"
   ]
  },
  {
   "cell_type": "code",
   "execution_count": 6,
   "id": "fccfc964-e65f-44e5-ae7c-a54e89e96283",
   "metadata": {},
   "outputs": [
    {
     "name": "stdout",
     "output_type": "stream",
     "text": [
      "24.0 29.25\n"
     ]
    }
   ],
   "source": [
    "print(quantile1,quantile3)"
   ]
  },
  {
   "cell_type": "code",
   "execution_count": 7,
   "id": "c805502b-a42e-4987-9610-13edd76665b6",
   "metadata": {},
   "outputs": [
    {
     "name": "stdout",
     "output_type": "stream",
     "text": [
      "5.25\n"
     ]
    }
   ],
   "source": [
    "# Find the IQR \n",
    "iqr_value = quantile3 - quantile1\n",
    "print(iqr_value)"
   ]
  },
  {
   "cell_type": "code",
   "execution_count": 8,
   "id": "5b6ae33f-ae35-477f-bf7f-c2c83f0a645e",
   "metadata": {},
   "outputs": [],
   "source": [
    "# Finding the lower and upper bound value\n",
    "lower_bound_value = quantile1 - (1.5)*iqr_value\n",
    "upper_bound_value = quantile3 + (1.5)*iqr_value"
   ]
  },
  {
   "cell_type": "code",
   "execution_count": 9,
   "id": "c8c32a3d-5676-4275-9ea2-86a044c22d16",
   "metadata": {},
   "outputs": [
    {
     "name": "stdout",
     "output_type": "stream",
     "text": [
      "Lower Bound Value is :16.125\n",
      "Upper Bound Value is :37.125\n"
     ]
    }
   ],
   "source": [
    "print(f\"Lower Bound Value is :{lower_bound_value}\")\n",
    "print(f\"Upper Bound Value is :{upper_bound_value}\")"
   ]
  },
  {
   "cell_type": "code",
   "execution_count": 10,
   "id": "fa336f8b-9ce3-4566-ade7-7548c11b67ab",
   "metadata": {},
   "outputs": [],
   "source": [
    "finalDataset = []\n",
    "for i in sorted_data:\n",
    "    if i > lower_bound_value and i<upper_bound_value:\n",
    "        finalDataset.append(i)\n",
    "  "
   ]
  },
  {
   "cell_type": "code",
   "execution_count": 11,
   "id": "ae7174e4-8841-40b5-a5cb-50a56fe075ee",
   "metadata": {},
   "outputs": [
    {
     "name": "stdout",
     "output_type": "stream",
     "text": [
      "The Final Dataset is:[22, 23, 24, 24, 25, 26, 27, 28, 29, 30]\n"
     ]
    }
   ],
   "source": [
    "print(f\"The Final Dataset is:{finalDataset}\")"
   ]
  },
  {
   "cell_type": "code",
   "execution_count": 12,
   "id": "b4cd73ba-6a37-4b3a-b100-46a75c09028c",
   "metadata": {},
   "outputs": [
    {
     "name": "stdout",
     "output_type": "stream",
     "text": [
      "The outliers were:[50, 500]\n"
     ]
    }
   ],
   "source": [
    "# Outliers \n",
    "from collections import Counter\n",
    "outliers = list(((Counter(sorted_data)-Counter(finalDataset)).elements()))\n",
    "print(f\"The outliers were:{outliers}\")"
   ]
  },
  {
   "cell_type": "code",
   "execution_count": null,
   "id": "9bbd336a-45ea-4154-ae79-5e630772068b",
   "metadata": {},
   "outputs": [],
   "source": []
  }
 ],
 "metadata": {
  "kernelspec": {
   "display_name": "Python 3 (ipykernel)",
   "language": "python",
   "name": "python3"
  },
  "language_info": {
   "codemirror_mode": {
    "name": "ipython",
    "version": 3
   },
   "file_extension": ".py",
   "mimetype": "text/x-python",
   "name": "python",
   "nbconvert_exporter": "python",
   "pygments_lexer": "ipython3",
   "version": "3.13.2"
  }
 },
 "nbformat": 4,
 "nbformat_minor": 5
}
