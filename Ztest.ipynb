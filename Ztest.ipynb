{
 "cells": [
  {
   "cell_type": "markdown",
   "id": "1ce35b53-559c-47f9-93b8-f95f38e31b1c",
   "metadata": {},
   "source": [
    "## Z test"
   ]
  },
  {
   "cell_type": "code",
   "execution_count": 1,
   "id": "7f8ede1b-5858-47eb-a645-fd5c7e60b1bf",
   "metadata": {},
   "outputs": [],
   "source": [
    "import numpy as np\n",
    "import matplotlib as plt\n",
    "%matplotlib inline"
   ]
  },
  {
   "cell_type": "markdown",
   "id": "30a01dd3-5532-4f9e-b8f4-6ed92ac06074",
   "metadata": {},
   "source": [
    "Z = (X -µ)/(σ/n**0.5)"
   ]
  },
  {
   "cell_type": "markdown",
   "id": "269398b9-5ade-4cde-a79c-8e2385f88074",
   "metadata": {},
   "source": [
    "Sample weight of 64 oranges is 150g , whereas weight of oranges in region is 145g , α = 0.01 is 2.33"
   ]
  },
  {
   "cell_type": "markdown",
   "id": "e222060e-d006-42be-a5db-355c9c117147",
   "metadata": {},
   "source": [
    "Null Hypothesis = Avg weight of oranges are same\n",
    "Alternate Hypothesis = Avg weight of oranges are not same"
   ]
  },
  {
   "cell_type": "code",
   "execution_count": 2,
   "id": "c78e8d2b-512a-457b-893f-79f3553c977f",
   "metadata": {},
   "outputs": [
    {
     "name": "stdin",
     "output_type": "stream",
     "text": [
      "Sample Mean: 150\n",
      "Population Mean: 145\n",
      "Standard Deviation: 15\n",
      "sample size 64\n"
     ]
    }
   ],
   "source": [
    "x = float(input(\"Sample Mean:\"))\n",
    "pop_mean = float(input(\"Population Mean:\"))\n",
    "std = float(input(\"Standard Deviation:\"))\n",
    "n = int(input(\"sample size\"))"
   ]
  },
  {
   "cell_type": "code",
   "execution_count": 4,
   "id": "6a83ba19-6816-4b1c-8d3e-5b7f8088a5f6",
   "metadata": {},
   "outputs": [
    {
     "name": "stdout",
     "output_type": "stream",
     "text": [
      "Z-score is: 2.6666666666666665\n",
      "Reject Null Hypothesis , ie accept Alternate Hypothesis\n"
     ]
    }
   ],
   "source": [
    "z_score = (x - pop_mean) / (std / (n** 0.5))\n",
    "print(\"Z-score is:\", z_score)\n",
    "if z_score<2.33:\n",
    "    print(\"Accept Null Hypothesis\")\n",
    "else:\n",
    "    print(\"Reject Null Hypothesis , ie accept Alternate Hypothesis\")"
   ]
  }
 ],
 "metadata": {
  "kernelspec": {
   "display_name": "Python 3 (ipykernel)",
   "language": "python",
   "name": "python3"
  },
  "language_info": {
   "codemirror_mode": {
    "name": "ipython",
    "version": 3
   },
   "file_extension": ".py",
   "mimetype": "text/x-python",
   "name": "python",
   "nbconvert_exporter": "python",
   "pygments_lexer": "ipython3",
   "version": "3.13.2"
  }
 },
 "nbformat": 4,
 "nbformat_minor": 5
}
